{
 "cells": [
  {
   "cell_type": "markdown",
   "metadata": {},
   "source": [
    "# FastSearchModule"
   ]
  },
  {
   "cell_type": "markdown",
   "metadata": {},
   "source": [
    "I made a binary search module which could also output duplicates. A normal binary search wouldn't do that.\n",
    "I also made a \"little\" performance test with the normal buildin search from python."
   ]
  },
  {
   "cell_type": "code",
   "execution_count": 1,
   "metadata": {
    "collapsed": true
   },
   "outputs": [],
   "source": [
    "import numpy as np"
   ]
  },
  {
   "cell_type": "code",
   "execution_count": 2,
   "metadata": {
    "collapsed": true
   },
   "outputs": [],
   "source": [
    "# The search function, it will search through the array.\n",
    "def search(array, value):\n",
    "    index = np.searchsorted(array, value)\n",
    "\n",
    "    output_down = recursiv_down(index, array, value, [])\n",
    "    output_up = recursiv_up(index, array, value, [])\n",
    "    \n",
    "    output = []\n",
    "    output = np.append(output, index)\n",
    "    output = np.append(output, output_down)\n",
    "    output = np.append(output, output_up)\n",
    "    \n",
    "    if index != len(array):\n",
    "        if value != array[index]:\n",
    "            return ([])\n",
    "        return output\n",
    "    else:\n",
    "        return ([])"
   ]
  },
  {
   "cell_type": "code",
   "execution_count": 3,
   "metadata": {
    "collapsed": true
   },
   "outputs": [],
   "source": [
    "# This function will look if the one higher value in the list is the same. It's recursiv.\n",
    "def recursiv_up(index, array, value, output):\n",
    "    if index + 1 >= len(array):\n",
    "        pass\n",
    "    else:\n",
    "        if array[index + 1] == value:\n",
    "            output.append(index + 1)\n",
    "            recursiv_up(index + 1, array, value, output)\n",
    "    \n",
    "    return output"
   ]
  },
  {
   "cell_type": "code",
   "execution_count": 4,
   "metadata": {
    "collapsed": true
   },
   "outputs": [],
   "source": [
    "# This function will look if the one lower value in the list is the same. It's recursiv.\n",
    "def recursiv_down(index, array, value, output):\n",
    "    if index == 0:\n",
    "        pass\n",
    "    else:\n",
    "        if array[index - 1] == value:\n",
    "            output.append(index - 1)\n",
    "            recursiv_down(index - 1, array, value, output)\n",
    "        \n",
    "    return output"
   ]
  },
  {
   "cell_type": "code",
   "execution_count": 5,
   "metadata": {
    "collapsed": true
   },
   "outputs": [],
   "source": [
    "# This functions is for adding new values in the array without resorting them\n",
    "def add(array, value):\n",
    "    return np.insert(array, np.searchsorted(array, value), value)"
   ]
  },
  {
   "cell_type": "code",
   "execution_count": 6,
   "metadata": {
    "collapsed": true
   },
   "outputs": [],
   "source": [
    "# For removing values (if there are multiple duplicates, it will remove one of them).\n",
    "def remove(array, value):\n",
    "    output = search(array, value)\n",
    "    if len(output) > 0:\n",
    "        return np.delete(array, int(output[0]))\n",
    "    return array"
   ]
  },
  {
   "cell_type": "code",
   "execution_count": 7,
   "metadata": {
    "collapsed": true
   },
   "outputs": [],
   "source": [
    "# Simply counts the array.\n",
    "def count(array, value):\n",
    "    output = len(search(array, value))\n",
    "    return output"
   ]
  },
  {
   "cell_type": "markdown",
   "metadata": {},
   "source": [
    "This is all code we need. Now let's test the performance with the buildin search from python."
   ]
  },
  {
   "cell_type": "code",
   "execution_count": 8,
   "metadata": {
    "collapsed": true
   },
   "outputs": [],
   "source": [
    "# to better handle the memory, you have to add the datatype of the array.\n",
    "array = np.array([], dtype=\"a64\")"
   ]
  },
  {
   "cell_type": "code",
   "execution_count": 17,
   "metadata": {},
   "outputs": [
    {
     "data": {
      "application/vnd.jupyter.widget-view+json": {
       "model_id": "a9bdb87d5c144a0d81480bd3c3b56bb6"
      }
     },
     "metadata": {},
     "output_type": "display_data"
    },
    {
     "name": "stdout",
     "output_type": "stream",
     "text": [
      "\n",
      "\n"
     ]
    }
   ],
   "source": [
    "# Let's create 100'000'000 samples with 16 chars.\n",
    "import random\n",
    "import string\n",
    "from tqdm import tnrange, tqdm_notebook\n",
    "\n",
    "def id_generator(size=6, chars=string.ascii_uppercase + string.digits):\n",
    "    return ''.join(random.choice(chars) for _ in range(size))\n",
    "\n",
    "out = []\n",
    "outs = np.array([], dtype=\"a16\")\n",
    "for i in tqdm_notebook(range(100000000)):\n",
    "    txt = id_generator(16)\n",
    "    out.append(txt)\n"
   ]
  },
  {
   "cell_type": "code",
   "execution_count": 18,
   "metadata": {
    "collapsed": true
   },
   "outputs": [],
   "source": [
    "# Now I will sort it, normally you shoudn't do that, tha array is 8 gb large, sooo your cpu will die :)\n",
    "# For normal use, use the add function,\n",
    "outs = np.sort(out)"
   ]
  },
  {
   "cell_type": "code",
   "execution_count": 19,
   "metadata": {},
   "outputs": [
    {
     "data": {
      "text/plain": [
       "array(['0000058AV8U6O00Y', '00001VHL7LG1B24G', '00001XR9W5BOY4GA', ...,\n",
       "       'ZZZZY8F47LLOQQB0', 'ZZZZZ8KEZUTHS8U7', 'ZZZZZNBYY1AXGW55'], \n",
       "      dtype='<U16')"
      ]
     },
     "execution_count": 19,
     "metadata": {},
     "output_type": "execute_result"
    }
   ],
   "source": [
    "outs"
   ]
  },
  {
   "cell_type": "markdown",
   "metadata": {},
   "source": [
    "Now we can test it."
   ]
  },
  {
   "cell_type": "code",
   "execution_count": 22,
   "metadata": {},
   "outputs": [
    {
     "name": "stdout",
     "output_type": "stream",
     "text": [
      "1 loop, best of 3: 2.2 s per loop\n"
     ]
    }
   ],
   "source": [
    "%timeit if \"333333337UU663I7\" in out : pass"
   ]
  },
  {
   "cell_type": "code",
   "execution_count": 21,
   "metadata": {},
   "outputs": [
    {
     "name": "stdout",
     "output_type": "stream",
     "text": [
      "The slowest run took 35736.36 times longer than the fastest. This could mean that an intermediate result is being cached.\n",
      "1 loop, best of 3: 36.4 µs per loop\n"
     ]
    }
   ],
   "source": [
    "%timeit search(outs, \"333333337UU663I7\")"
   ]
  },
  {
   "cell_type": "markdown",
   "metadata": {
    "collapsed": true
   },
   "source": [
    "It's over 50'000 times faster! incredible"
   ]
  }
 ],
 "metadata": {
  "kernelspec": {
   "display_name": "Python 3",
   "language": "python",
   "name": "python3"
  },
  "language_info": {
   "codemirror_mode": {
    "name": "ipython",
    "version": 3
   },
   "file_extension": ".py",
   "mimetype": "text/x-python",
   "name": "python",
   "nbconvert_exporter": "python",
   "pygments_lexer": "ipython3",
   "version": "3.6.1"
  }
 },
 "nbformat": 4,
 "nbformat_minor": 2
}
